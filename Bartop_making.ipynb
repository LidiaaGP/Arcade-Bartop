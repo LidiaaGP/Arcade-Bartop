{
  "nbformat": 4,
  "nbformat_minor": 0,
  "metadata": {
    "colab": {
      "provenance": [],
      "authorship_tag": "ABX9TyM9SMQKS9KGYaFt6adWWDjC",
      "include_colab_link": true
    },
    "kernelspec": {
      "name": "python3",
      "display_name": "Python 3"
    },
    "language_info": {
      "name": "python"
    }
  },
  "cells": [
    {
      "cell_type": "markdown",
      "metadata": {
        "id": "view-in-github",
        "colab_type": "text"
      },
      "source": [
        "<a href=\"https://colab.research.google.com/github/LidiaaGP/Arcade-Bartop/blob/main/Bartop_making.ipynb\" target=\"_parent\"><img src=\"https://colab.research.google.com/assets/colab-badge.svg\" alt=\"Open In Colab\"/></a>"
      ]
    },
    {
      "cell_type": "markdown",
      "source": [
        "# **BARTOP ARCADE MACHINE**"
      ],
      "metadata": {
        "id": "lXg5aNMzMlI6"
      }
    },
    {
      "cell_type": "markdown",
      "source": [
        "**Bartop Arcade Build steps:**"
      ],
      "metadata": {
        "id": "IVq91inEM1Cy"
      }
    },
    {
      "cell_type": "markdown",
      "source": [
        "1. Design and Planning\n",
        "\n",
        "Defined the bartop dimensions and layout, selecting a 7-inch screen, buttons, and joystick for the arcade experience.\n",
        "\n",
        "2. Wooden Cabinet Construction\n",
        "\n",
        "Cut and assembled the wooden cabinet, making holes for controls and the screen. Painted the cabinet.\n",
        "\n",
        "3. Electronics Setup\n",
        "\n",
        "Installed the Raspberry Pi 5 as the main controller, connecting the screen via HDMI and the buttons/joystick through a compatible USB controller.\n",
        "\n",
        "4. Software Configuration\n",
        "\n",
        "Installed Batocera on the Raspberry Pi, configured the controls, loaded games, and adjusted resolution and audio for optimal performance.\n",
        "\n",
        "5. Testing and Final Adjustments\n",
        "\n",
        "Verified all controls worked correctly, optimized gameplay experience, and added aesthetic details like lighting and speakers.\n",
        "\n"
      ],
      "metadata": {
        "id": "ZktgGyi5Kuvi"
      }
    },
    {
      "cell_type": "code",
      "execution_count": 8,
      "metadata": {
        "colab": {
          "base_uri": "https://localhost:8080/",
          "height": 643
        },
        "id": "nJ82DX3mJgvn",
        "outputId": "cb8d4695-742d-466c-d43a-2d815e68763a"
      },
      "outputs": [
        {
          "output_type": "display_data",
          "data": {
            "text/html": [
              "<img src=\"https://raw.githubusercontent.com/LidiaaGP/Arcade-Bartop/b98d316f185722403ad659a6c10fae11381e99d3/bartop.png\" width=\"500\"/>"
            ],
            "text/plain": [
              "<IPython.core.display.Image object>"
            ]
          },
          "metadata": {}
        }
      ],
      "source": [
        "from IPython.display import Image, display\n",
        "\n",
        "url = \"https://raw.githubusercontent.com/LidiaaGP/Arcade-Bartop/b98d316f185722403ad659a6c10fae11381e99d3/bartop.png\"\n",
        "\n",
        "display(Image(url=url, width=500))"
      ]
    },
    {
      "cell_type": "markdown",
      "source": [],
      "metadata": {
        "id": "_dyZsObLKpFj"
      }
    }
  ]
}